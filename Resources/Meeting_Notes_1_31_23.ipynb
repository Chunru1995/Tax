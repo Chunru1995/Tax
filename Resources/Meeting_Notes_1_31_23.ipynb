{
 "cells": [
  {
   "cell_type": "markdown",
   "id": "342adc90-2170-4272-98b6-fe7505b1ae26",
   "metadata": {},
   "source": [
    "## Meeting Notes 1/31/23\n",
    "\n",
    "- Understand how Robin wants the data managed/presented - she wants name/event structure\n",
    "- Need to run column name changes by her\n",
    "- 2 options for searching (our opinion):\n",
    "- Search for a name and configure the output to reflect name/event structure\n",
    "- Restructure the data to reflect the structure first, then search\n",
    "- Backend should change the date column into a datetime object on its own\n",
    "- Add documentation for adding queries (for Robin to add queries)\n",
    "- Dashboard tool available in Esri - ArcGIS\n",
    "- On These Grounds has event types - look at controlled vocabularies documentation\n",
    "    - Robin wants this kind of data management\n",
    "    - It needs to be possible for this data to deal with people, places, and events like the OTG data and ancestry data\n",
    "    - “Linked open data”\n",
    "- Sounds like she wants us to anticipate the work of OTG, although it has not yet been completed\n",
    "- Next steps:\n",
    "    - She will send us the updated CentralVA1867 Property Tax spreadsheet\n",
    "    - She will send us the 1782 Fluvanna Property Tax spreadsheet\n",
    "    - She is not pleased that we used the data from the previous capstone - scrap that\n",
    "    - Once we edit the data structure, will need to repopulate the database\n",
    "    - Check Reclaim Hosting for MongoDB options"
   ]
  },
  {
   "cell_type": "code",
   "execution_count": null,
   "id": "8722e8bd-9019-4e8b-be5a-600f72c31286",
   "metadata": {},
   "outputs": [],
   "source": []
  }
 ],
 "metadata": {
  "kernelspec": {
   "display_name": "Python 3 (ipykernel)",
   "language": "python",
   "name": "python3"
  },
  "language_info": {
   "codemirror_mode": {
    "name": "ipython",
    "version": 3
   },
   "file_extension": ".py",
   "mimetype": "text/x-python",
   "name": "python",
   "nbconvert_exporter": "python",
   "pygments_lexer": "ipython3",
   "version": "3.9.12"
  }
 },
 "nbformat": 4,
 "nbformat_minor": 5
}
