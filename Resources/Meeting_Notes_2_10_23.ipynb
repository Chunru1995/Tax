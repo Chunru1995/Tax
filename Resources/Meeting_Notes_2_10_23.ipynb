{
 "cells": [
  {
   "cell_type": "markdown",
   "id": "8376fe6b-c8df-49bc-815b-6e5f05dc8edd",
   "metadata": {},
   "source": [
    "# Meeting Notes 2/10/23\n",
    "\n",
    "Ami’s Friday Meeting\n",
    "\n",
    "- Esri would not work with MongoDB. It would work with static files though (Robin said to mention that to the group, but like, why would we scrap the database after all this)\n",
    "    - Robin said she doesn't want to finalize the proposal until the data structure part is changed to her liking (I mentioned to her that the image is just for show and it clearly says \"similar to this image below\", but she wanted to get rid of the image altogether or something). That's probably what Robin will bring up in the phone call with Rachel.\n",
    "    - Robin wants to actively involve Ian in regards to the hosting. She really wants the MongoDB in the ReclaimHosting/ReclaimCloud instead of making an AWS account. I told her that we have been involving Ian more, but she emphasized this.\n",
    "    - About the hosting stuff; I told her that my demo from when she got hella mad can just be revised and placed in one of their server ports and it would run. She is open to this option, she just wants the hosting to be taken care of. She thinks it's our job to figure it out.\n",
    "- The structure has basically been agreed upon, and she has sent me a final(?) copy of the excel sheets. Basically it's just plugging in the table, with one value attributed to one column. She said something like \"if I can't get a relational database I don't want any of them complicated things.\"\n",
    "- With these, I will make a new query that can take in the inputs: name (First/Last), location, year (range), and source (dropdown). Maybe also a new demo dashboard using the Starlette Python package that Judy wants us to try out. I will try to do these things before Monday, but with all that's going on, I can't make any promises. I will at least complete the new query, though."
   ]
  }
 ],
 "metadata": {
  "kernelspec": {
   "display_name": "Python 3 (ipykernel)",
   "language": "python",
   "name": "python3"
  },
  "language_info": {
   "codemirror_mode": {
    "name": "ipython",
    "version": 3
   },
   "file_extension": ".py",
   "mimetype": "text/x-python",
   "name": "python",
   "nbconvert_exporter": "python",
   "pygments_lexer": "ipython3",
   "version": "3.9.12"
  }
 },
 "nbformat": 4,
 "nbformat_minor": 5
}
