{
 "cells": [
  {
   "attachments": {},
   "cell_type": "markdown",
   "id": "66d76d87-4c4b-4f22-b971-3bd2e7a55b79",
   "metadata": {},
   "source": [
    "# Starlette Dashboard Attempt 1\n",
    "\n",
    "NOTE: if errno 10048 occurs when trying to start server with `uvicorn app:app`, go to powershell (on Windows) and enter the following commands first:\n",
    "\n",
    "`netstat -ano | findstr :8080 (the port number)`\n",
    "\n",
    "`taskkill /F /PID 12017(or whatever the process ID is)`\n",
    "\n",
    "Now it will work."
   ]
  },
  {
   "cell_type": "code",
   "execution_count": null,
   "id": "2a406a35-8c65-4c65-8f87-d0cabc819886",
   "metadata": {},
   "outputs": [],
   "source": []
  }
 ],
 "metadata": {
  "kernelspec": {
   "display_name": "Python 3",
   "language": "python",
   "name": "python3"
  },
  "language_info": {
   "codemirror_mode": {
    "name": "ipython",
    "version": 3
   },
   "file_extension": ".py",
   "mimetype": "text/x-python",
   "name": "python",
   "nbconvert_exporter": "python",
   "pygments_lexer": "ipython3",
   "version": "3.9.12"
  },
  "vscode": {
   "interpreter": {
    "hash": "560518170a55e782966e7704c5599b3a47462c8956096f09ae2f93021d983727"
   }
  }
 },
 "nbformat": 4,
 "nbformat_minor": 5
}
