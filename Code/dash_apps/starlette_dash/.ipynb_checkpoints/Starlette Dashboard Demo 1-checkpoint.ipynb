{
 "cells": [
  {
   "cell_type": "markdown",
   "id": "66d76d87-4c4b-4f22-b971-3bd2e7a55b79",
   "metadata": {},
   "source": [
    "# Starlette Dashboard Attempt 1"
   ]
  },
  {
   "cell_type": "code",
   "execution_count": null,
   "id": "2a406a35-8c65-4c65-8f87-d0cabc819886",
   "metadata": {},
   "outputs": [],
   "source": []
  }
 ],
 "metadata": {
  "kernelspec": {
   "display_name": "Python 3 (ipykernel)",
   "language": "python",
   "name": "python3"
  },
  "language_info": {
   "codemirror_mode": {
    "name": "ipython",
    "version": 3
   },
   "file_extension": ".py",
   "mimetype": "text/x-python",
   "name": "python",
   "nbconvert_exporter": "python",
   "pygments_lexer": "ipython3",
   "version": "3.9.12"
  }
 },
 "nbformat": 4,
 "nbformat_minor": 5
}
